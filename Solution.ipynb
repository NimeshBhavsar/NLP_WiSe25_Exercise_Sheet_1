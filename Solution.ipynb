{
 "cells": [
  {
   "cell_type": "code",
   "execution_count": 10,
   "id": "53bddb70",
   "metadata": {},
   "outputs": [],
   "source": [
    "import os\n",
    "import sys\n",
    "import re\n",
    "import pandas as pd\n",
    "\n",
    "# Import the text file\n",
    "text = open(\"magic.txt\",\"r\").read()"
   ]
  },
  {
   "cell_type": "markdown",
   "id": "07ba268d",
   "metadata": {},
   "source": [
    "### Task 1: Store the Card Details in Well Structured format\n",
    "\n",
    "\n",
    "A class `MagicCard` contains the objects { CardName, CardCost, CardType, CardEffect }\n",
    "\n",
    "Also to view the card detail a to_dict method is created\n"
   ]
  },
  {
   "cell_type": "code",
   "execution_count": 11,
   "id": "c2aeb6f7",
   "metadata": {},
   "outputs": [],
   "source": [
    "# Store Card Data in Structured Format\n",
    "class MagicCard:\n",
    "    def __init__(self, name, cost, card_type, effect):\n",
    "        self.CardName = name\n",
    "        self.CardCost = cost\n",
    "        self.CardType = card_type\n",
    "        self.CardEffect = effect\n",
    "\n",
    "    def to_dict(self):\n",
    "        return {\n",
    "            'CardName': self.CardName,\n",
    "            'CardCost': self.CardCost,\n",
    "            'CardType': self.CardType,\n",
    "            'CardEffect': self.CardEffect\n",
    "        }"
   ]
  },
  {
   "cell_type": "markdown",
   "id": "e09a4c37",
   "metadata": {},
   "source": [
    "### Task 2 & 3 Make a list of lines for each Card Transform the textfile to a dataframe\n",
    "\n",
    "The text file is split into list of lines representing Card and its details.\n",
    "\n",
    "The information is then added in structured class and also converted to a dataframe"
   ]
  },
  {
   "cell_type": "code",
   "execution_count": 12,
   "id": "0f9aac7d",
   "metadata": {},
   "outputs": [],
   "source": [
    "lines = text.split(\"\\n\")\n",
    "cards: list[MagicCard] = []\n",
    "def parse_card_data(lines):\n",
    "    for line in lines:\n",
    "        if not line.strip():\n",
    "            continue\n",
    "        \n",
    "        card_pattern = re.compile(r\"^CardName:\\s*(.*?)\\s*CardCost:\\s*(.*?)\\s*CardType:\\s*(.*?)\\s*CardEffect:\\s*(.*)$\")\n",
    "        match = card_pattern.match(line)\n",
    "        # print(match)\n",
    "        if match:\n",
    "            CardName= match.group(1)\n",
    "            CardCost= match.group(2)\n",
    "            CardType= match.group(3)\n",
    "            CardEffect= match.group(4)\n",
    "            cards.append(MagicCard(CardName, CardCost, CardType, CardEffect))\n",
    "\n",
    "parse_card_data(lines)\n",
    "            "
   ]
  },
  {
   "cell_type": "code",
   "execution_count": 13,
   "id": "c8ca8ded",
   "metadata": {},
   "outputs": [
    {
     "name": "stdout",
     "output_type": "stream",
     "text": [
      "{'CardName': 'Absorb', 'CardCost': '{W}{U}{U}', 'CardType': 'Instant', 'CardEffect': 'Counter target spell. You gain 3 life.'}\n"
     ]
    }
   ],
   "source": [
    "print(cards[0].to_dict())"
   ]
  },
  {
   "cell_type": "code",
   "execution_count": 14,
   "id": "f07398bd",
   "metadata": {},
   "outputs": [],
   "source": [
    "#Export cards to pandas DataFrame\n",
    "\n",
    "card_dicts = [card.to_dict() for card in cards]\n",
    "\n",
    "# Create the pandas DataFrame (df)\n",
    "df = pd.DataFrame(card_dicts)\n",
    "\n",
    "# Rename columns as requested (\"Name\", \"Cost\", \"Type\", \"Effect\")\n",
    "df = df.rename(columns={\n",
    "    'CardName': 'Name',\n",
    "    'CardCost': 'Cost',\n",
    "    'CardType': 'Type',\n",
    "    'CardEffect': 'Effect'\n",
    "})\n",
    "\n"
   ]
  },
  {
   "cell_type": "code",
   "execution_count": 15,
   "id": "bb5f4abb",
   "metadata": {},
   "outputs": [
    {
     "data": {
      "text/plain": [
       "1419"
      ]
     },
     "execution_count": 15,
     "metadata": {},
     "output_type": "execute_result"
    }
   ],
   "source": [
    "len(df)"
   ]
  },
  {
   "cell_type": "code",
   "execution_count": 16,
   "id": "84cf135b",
   "metadata": {},
   "outputs": [
    {
     "name": "stdout",
     "output_type": "stream",
     "text": [
      "                  Name       Cost                            Type  \\\n",
      "0               Absorb  {W}{U}{U}                         Instant   \n",
      "1  Acclaimed Contender     {2}{W}       Creature â€” Human Knight   \n",
      "2       Act of Treason     {2}{R}                         Sorcery   \n",
      "3       Aerial Assault     {2}{W}                         Sorcery   \n",
      "4         Aeromunculus  {1}{G}{U}  Creature â€” Homunculus Mutant   \n",
      "\n",
      "                                              Effect  \n",
      "0             Counter target spell. You gain 3 life.  \n",
      "1  When Acclaimed Contender enters the battlefiel...  \n",
      "2  Gain control of target creature until end of t...  \n",
      "3  Destroy target tapped creature. You gain 1 lif...  \n",
      "4  Flying {2}{G}{U}: Adapt 1. (If this creature h...  \n"
     ]
    }
   ],
   "source": [
    "print(df.head())"
   ]
  },
  {
   "cell_type": "markdown",
   "id": "00b9f68c",
   "metadata": {},
   "source": [
    "### Task 4: Find which type of Card appears the most\n",
    "Which of the words “Creature”, “Sorcery”, “Instant”, “Enchantment” and “Artifact” appears\n",
    "most often in all the texts within the “Type” column?"
   ]
  },
  {
   "cell_type": "code",
   "execution_count": 17,
   "id": "33e86c61",
   "metadata": {},
   "outputs": [
    {
     "name": "stdout",
     "output_type": "stream",
     "text": [
      "{'Creature': 733, 'Sorcery': 185, 'Instant': 215, 'Enchantment': 85, 'Artifact': 108}\n"
     ]
    }
   ],
   "source": [
    "findWords =[\"Creature\", \"Sorcery\", \"Instant\", \"Enchantment\", \"Artifact\"]\n",
    "count_dict = {}\n",
    "for word in findWords:\n",
    "    for index, row in df.iterrows():\n",
    "        if word in row['Type']:\n",
    "            if word in count_dict:\n",
    "                count_dict[word] += 1\n",
    "            else:\n",
    "                count_dict[word] = 1\n",
    "print(count_dict)"
   ]
  },
  {
   "cell_type": "markdown",
   "id": "dad36d9e",
   "metadata": {},
   "source": [
    "### Answer to task 4\n",
    "There are in total of 1419 Cards\n",
    "| **Card Type** | **Count** |\n",
    "| :--- | :--- |\n",
    "| Creature | 733 |\n",
    "| Sorcery | 185 |\n",
    "| Instant | 215 |\n",
    "| Enchantment | 85 |\n",
    "| Artifact | 108 |"
   ]
  },
  {
   "cell_type": "code",
   "execution_count": 18,
   "id": "bee7b430",
   "metadata": {},
   "outputs": [],
   "source": [
    "# Check answer manually in CSV using search\n",
    "df.to_csv('card_data.csv', index=False)"
   ]
  }
 ],
 "metadata": {
  "kernelspec": {
   "display_name": "Python 3",
   "language": "python",
   "name": "python3"
  },
  "language_info": {
   "codemirror_mode": {
    "name": "ipython",
    "version": 3
   },
   "file_extension": ".py",
   "mimetype": "text/x-python",
   "name": "python",
   "nbconvert_exporter": "python",
   "pygments_lexer": "ipython3",
   "version": "3.10.0"
  }
 },
 "nbformat": 4,
 "nbformat_minor": 5
}
